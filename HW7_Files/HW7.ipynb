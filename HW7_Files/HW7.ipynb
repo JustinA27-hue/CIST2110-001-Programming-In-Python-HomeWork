{
 "cells": [
  {
   "cell_type": "markdown",
   "metadata": {},
   "source": [
    "# HW7\n",
    "\n",
    "Name: Justin Agosto"
   ]
  },
  {
   "cell_type": "code",
   "execution_count": 1,
   "metadata": {},
   "outputs": [],
   "source": [
    "# inside of the HW7_Files folder there is a text file called Dracula.txt that we will be using for this assignment\n",
    "\n",
    "# read in the Dracula.txt file and store it in a variable called dracula_text\n",
    "# Note the file is utf-8 encoded\n",
    "dracula_text = open(\"Dracula.txt\", encoding=\"utf-8\").read()\n"
   ]
  },
  {
   "cell_type": "code",
   "execution_count": null,
   "metadata": {},
   "outputs": [],
   "source": [
    "def get_text(dracula_text):\n",
    "    start = dracula_text.find(\"*** START OF THIS PROJECT GUTENBERG EBOOK DRACULA ***\")\n",
    "    end = dracula_text.find(\"*** END OF THIS PROJECT GUTENBERG EBOOK DRACULA ***\")\n",
    "    return dracula_text[start:end]\n"
   ]
  },
  {
   "cell_type": "code",
   "execution_count": null,
   "metadata": {},
   "outputs": [],
   "source": [
    "# Clean the text by removing all punctuation and numbers. You can use the replace method to do this. Replace all punctuation and numbers with an empty string.\n",
    "def replace_punctuation(dracula_text):\n",
    "    punctuation = \"!\\\"#$%&'()*+,-./:;<=>?@[\\]^_`{|}~0123456789\"\n",
    "    for char in punctuation:\n",
    "        dracula_text = dracula_text.replace(char, \"\")\n",
    "    return dracula_text"
   ]
  },
  {
   "cell_type": "code",
   "execution_count": null,
   "metadata": {},
   "outputs": [],
   "source": [
    "# Answer the following questions using python code:\n",
    "# 1. What is the total number of words in the text?\n",
    "def get_total_words(dracula_text):\n",
    "    return len(dracula_text.split())\n",
    "print(get_total_words(dracula_text))\n",
    "# 2. What is the total number of unique words in the text?\n",
    "def get_unique_words(dracula_text):\n",
    "    return len(set(dracula_text.split()))\n",
    "print(get_unique_words(dracula_text))\n",
    "\n",
    "# 3. How many times is the word 'vampire' used in the text?\n",
    "def get_vampire_count(dracula_text):\n",
    "    return dracula_text.count(\"vampire\")\n",
    "print(get_vampire_count(dracula_text))\n",
    "# 4. What is the name of Chapter 5?\n",
    "# Note in the text chapters are in roman numerals (5 is V)\n",
    "def get_chapter_5_title(dracula_text):\n",
    "    start = dracula_text.find(\"CHAPTER V\")\n",
    "    end = dracula_text.find(\"CHAPTER VI\")\n",
    "    return dracula_text[start:end]\n",
    "print(get_chapter_5_title(dracula_text))\n",
    "# 5. What is the total number of words in Chapter 5?\n",
    "# Hints:\n",
    "# To get just the text for chapter 5 you can use slicing between the start and end of chapter 5\n",
    "# To find the start of chapter 5 you can use the find method to find the index of the string 'CHAPTER V'\n",
    "# To find the end of chapter 5 you can use the find method to find the index of the string 'CHAPTER VI'\n",
    "# Then you can use slicing to get the text inbetween the start and end of chapter 5\n",
    "# IE find 'CHAPTER V' : find 'CHAPTER VI'\n",
    "# Then find the length of the text for the result of the slicing\n",
    "def get_chapter_5_word_count(dracula_text):\n",
    "    start = dracula_text.find(\"CHAPTER V\")\n",
    "    end = dracula_text.find(\"CHAPTER VI\")\n",
    "    return len(dracula_text[start:end].split())\n",
    "print(get_chapter_5_word_count(dracula_text))\n",
    "\n"
   ]
  }
 ],
 "metadata": {
  "kernelspec": {
   "display_name": "Python 3",
   "language": "python",
   "name": "python3"
  },
  "language_info": {
   "codemirror_mode": {
    "name": "ipython",
    "version": 3
   },
   "file_extension": ".py",
   "mimetype": "text/x-python",
   "name": "python",
   "nbconvert_exporter": "python",
   "pygments_lexer": "ipython3",
   "version": "3.11.5"
  }
 },
 "nbformat": 4,
 "nbformat_minor": 2
}
